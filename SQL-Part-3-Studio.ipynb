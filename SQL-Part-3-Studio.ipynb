{
    "metadata": {
        "kernelspec": {
            "name": "SQL",
            "display_name": "SQL",
            "language": "sql"
        },
        "language_info": {
            "name": "sql",
            "version": ""
        },
        "extensions": {
            "azuredatastudio": {
                "version": 1,
                "views": []
            }
        }
    },
    "nbformat_minor": 2,
    "nbformat": 4,
    "cells": [
        {
            "cell_type": "markdown",
            "source": [
                "# SQL Part 3 Studio\n",
                "\n",
                "### Let's practice your SQL quering skills!  For each question, work along in the notebook adding your query and answering the questions. \n",
                "\n",
                "### **DataSet**\n",
                "\n",
                "### <span style=\"font-size: 14px; font-family: -apple-system, BlinkMacSystemFont, sans-serif;\">We will be using the Goodbooks-10k dataset from the exercises in the prep work.&nbsp; Feel free reference your previous notebooks.</span>\n",
                "\n",
                "- The dataset can be found here: [goodbooks-10k](https://www.kaggle.com/zygmunt/goodbooks-10k)\n",
                "- You can access the **BooksDB** in the Launchcode server.\n",
                "\n",
                "### **Business Issue**\n",
                "\n",
                "You are an employee at a small independet bookstore and you have been tasked to increase sales.  You decide to use the BooksDB to find books and themes to highlight in fun promotions throughout each month / season.  We will be starting with March and then you will have a chance to explore another month of your choosing.  We want to come up with a list of events/ promotions to run each month.  If you are looking for ideas to include in your promotions:\n",
                "\n",
                "- [https://www.calendarr.com/united-states/calendar-2022/](https://www.calendarr.com/united-states/calendar-2022/)\n",
                "- [https://www.holidayinsights.com/moreholidays/](https://www.holidayinsights.com/moreholidays/)\n",
                "    - Click on a month and it will take you to a more detailed page"
            ],
            "metadata": {
                "azdata_cell_guid": "b9034d8a-b631-48bf-a895-1012a6ffa784"
            },
            "attachments": {}
        },
        {
            "cell_type": "markdown",
            "source": [
                "## Part 1:  March - Women's History Month, Dr Seuss Day(3/2), National Pie Day3/14, St Patrick's Day (3/17), Season - Spring"
            ],
            "metadata": {
                "azdata_cell_guid": "6e55eb1c-4a14-4076-90d2-95ed17a6309f"
            },
            "attachments": {}
        },
        {
            "cell_type": "markdown",
            "source": [
                "### **Event 1:** Women's History Month\n",
                "\n",
                "Goal: Highlight Popular Womans Authors based on ratings from the Good Reads DB.\n",
                "\n",
                "### **Write a query that returns tag\\_id, the number of times each tag\\_id is used and the tag\\_name.**  \n",
                "\n",
                "### Use the GROUP BY and HAVING clause to narrow your focus.\n",
                "\n",
                "Try multiple keywords, ie woman vs female (female ended up giving better results)"
            ],
            "metadata": {
                "azdata_cell_guid": "d220c097-e9cf-4edd-9abe-312d071217b7"
            },
            "attachments": {}
        },
        {
            "cell_type": "code",
            "source": [
                "-- Solution\r\n",
                "SELECT TOP 30 b.tag_id, tr.tag_id, tr.tag_name, count(tr.tag_name) as count\r\n",
                "FROM BooksDB.dbo.book_tags AS b\r\n",
                "INNER JOIN BooksDB.dbo.tags AS tr\r\n",
                "ON b.tag_id = tr.tag_id \r\n",
                "GROUP BY b.tag_id, tr.tag_id, tr.tag_name\r\n",
                "having tr.tag_name like '%female%'\r\n",
                "order by count(tr.tag_name) desc"
            ],
            "metadata": {
                "azdata_cell_guid": "e31b9d26-0386-44c7-828e-85f4f06f3ee6",
                "language": "sql",
                "tags": []
            },
            "outputs": [
                {
                    "output_type": "display_data",
                    "data": {
                        "text/html": "(30 rows affected)"
                    },
                    "metadata": {}
                },
                {
                    "output_type": "display_data",
                    "data": {
                        "text/html": "Total execution time: 00:00:00.233"
                    },
                    "metadata": {}
                },
                {
                    "output_type": "execute_result",
                    "metadata": {},
                    "execution_count": 62,
                    "data": {
                        "application/vnd.dataresource+json": {
                            "schema": {
                                "fields": [
                                    {
                                        "name": "tag_id"
                                    },
                                    {
                                        "name": "tag_id"
                                    },
                                    {
                                        "name": "tag_name"
                                    },
                                    {
                                        "name": "count"
                                    }
                                ]
                            },
                            "data": [
                                {
                                    "tag_id": "11643",
                                    "tag_name": "female-author",
                                    "count": "997"
                                },
                                {
                                    "tag_id": "11644",
                                    "tag_name": "female-authors",
                                    "count": "721"
                                },
                                {
                                    "tag_id": "11658",
                                    "tag_name": "female-protagonist",
                                    "count": "171"
                                },
                                {
                                    "tag_id": "11646",
                                    "tag_name": "female-detective",
                                    "count": "32"
                                },
                                {
                                    "tag_id": "11662",
                                    "tag_name": "female-writers",
                                    "count": "18"
                                },
                                {
                                    "tag_id": "11656",
                                    "tag_name": "female-pov",
                                    "count": "17"
                                },
                                {
                                    "tag_id": "11642",
                                    "tag_name": "female",
                                    "count": "17"
                                },
                                {
                                    "tag_id": "11652",
                                    "tag_name": "female-lead",
                                    "count": "14"
                                },
                                {
                                    "tag_id": "3514",
                                    "tag_name": "author-female",
                                    "count": "12"
                                },
                                {
                                    "tag_id": "28834",
                                    "tag_name": "strong-female-lead",
                                    "count": "10"
                                },
                                {
                                    "tag_id": "11647",
                                    "tag_name": "female-detectives",
                                    "count": "9"
                                },
                                {
                                    "tag_id": "11650",
                                    "tag_name": "female-friendship",
                                    "count": "4"
                                },
                                {
                                    "tag_id": "28830",
                                    "tag_name": "strong-female",
                                    "count": "4"
                                },
                                {
                                    "tag_id": "28833",
                                    "tag_name": "strong-female-characters",
                                    "count": "3"
                                },
                                {
                                    "tag_id": "11645",
                                    "tag_name": "female-biographies",
                                    "count": "2"
                                },
                                {
                                    "tag_id": "11654",
                                    "tag_name": "female-persuasion",
                                    "count": "1"
                                },
                                {
                                    "tag_id": "11655",
                                    "tag_name": "female-pi",
                                    "count": "1"
                                },
                                {
                                    "tag_id": "4309",
                                    "tag_name": "best-adult-female-friendship-books",
                                    "count": "1"
                                },
                                {
                                    "tag_id": "11657",
                                    "tag_name": "female-povs",
                                    "count": "1"
                                },
                                {
                                    "tag_id": "11649",
                                    "tag_name": "female-fiction",
                                    "count": "1"
                                },
                                {
                                    "tag_id": "11651",
                                    "tag_name": "female-genre-authors",
                                    "count": "1"
                                },
                                {
                                    "tag_id": "11653",
                                    "tag_name": "female-main-character",
                                    "count": "1"
                                },
                                {
                                    "tag_id": "11659",
                                    "tag_name": "female-serial-killer",
                                    "count": "1"
                                },
                                {
                                    "tag_id": "11660",
                                    "tag_name": "female-spy",
                                    "count": "1"
                                },
                                {
                                    "tag_id": "15331",
                                    "tag_name": "important-female-authors",
                                    "count": "1"
                                },
                                {
                                    "tag_id": "17079",
                                    "tag_name": "kick-ass-female",
                                    "count": "1"
                                },
                                {
                                    "tag_id": "28831",
                                    "tag_name": "strong-female-character",
                                    "count": "1"
                                },
                                {
                                    "tag_id": "28832",
                                    "tag_name": "strong-female-character-s",
                                    "count": "1"
                                },
                                {
                                    "tag_id": "11661",
                                    "tag_name": "female-writer",
                                    "count": "1"
                                },
                                {
                                    "tag_id": "24455",
                                    "tag_name": "protagonist-female",
                                    "count": "1"
                                }
                            ]
                        },
                        "text/html": [
                            "<table>",
                            "<tr><th>tag_id</th><th>tag_id</th><th>tag_name</th><th>count</th></tr>",
                            "<tr><td>11643</td><td>11643</td><td>female-author</td><td>997</td></tr>",
                            "<tr><td>11644</td><td>11644</td><td>female-authors</td><td>721</td></tr>",
                            "<tr><td>11658</td><td>11658</td><td>female-protagonist</td><td>171</td></tr>",
                            "<tr><td>11646</td><td>11646</td><td>female-detective</td><td>32</td></tr>",
                            "<tr><td>11662</td><td>11662</td><td>female-writers</td><td>18</td></tr>",
                            "<tr><td>11656</td><td>11656</td><td>female-pov</td><td>17</td></tr>",
                            "<tr><td>11642</td><td>11642</td><td>female</td><td>17</td></tr>",
                            "<tr><td>11652</td><td>11652</td><td>female-lead</td><td>14</td></tr>",
                            "<tr><td>3514</td><td>3514</td><td>author-female</td><td>12</td></tr>",
                            "<tr><td>28834</td><td>28834</td><td>strong-female-lead</td><td>10</td></tr>",
                            "<tr><td>11647</td><td>11647</td><td>female-detectives</td><td>9</td></tr>",
                            "<tr><td>11650</td><td>11650</td><td>female-friendship</td><td>4</td></tr>",
                            "<tr><td>28830</td><td>28830</td><td>strong-female</td><td>4</td></tr>",
                            "<tr><td>28833</td><td>28833</td><td>strong-female-characters</td><td>3</td></tr>",
                            "<tr><td>11645</td><td>11645</td><td>female-biographies</td><td>2</td></tr>",
                            "<tr><td>11654</td><td>11654</td><td>female-persuasion</td><td>1</td></tr>",
                            "<tr><td>11655</td><td>11655</td><td>female-pi</td><td>1</td></tr>",
                            "<tr><td>4309</td><td>4309</td><td>best-adult-female-friendship-books</td><td>1</td></tr>",
                            "<tr><td>11657</td><td>11657</td><td>female-povs</td><td>1</td></tr>",
                            "<tr><td>11649</td><td>11649</td><td>female-fiction</td><td>1</td></tr>",
                            "<tr><td>11651</td><td>11651</td><td>female-genre-authors</td><td>1</td></tr>",
                            "<tr><td>11653</td><td>11653</td><td>female-main-character</td><td>1</td></tr>",
                            "<tr><td>11659</td><td>11659</td><td>female-serial-killer</td><td>1</td></tr>",
                            "<tr><td>11660</td><td>11660</td><td>female-spy</td><td>1</td></tr>",
                            "<tr><td>15331</td><td>15331</td><td>important-female-authors</td><td>1</td></tr>",
                            "<tr><td>17079</td><td>17079</td><td>kick-ass-female</td><td>1</td></tr>",
                            "<tr><td>28831</td><td>28831</td><td>strong-female-character</td><td>1</td></tr>",
                            "<tr><td>28832</td><td>28832</td><td>strong-female-character-s</td><td>1</td></tr>",
                            "<tr><td>11661</td><td>11661</td><td>female-writer</td><td>1</td></tr>",
                            "<tr><td>24455</td><td>24455</td><td>protagonist-female</td><td>1</td></tr>",
                            "</table>"
                        ]
                    }
                }
            ],
            "execution_count": 62
        },
        {
            "cell_type": "markdown",
            "source": [
                "### **Which keyword(s) and tag(s) would you like to explore more?**\n",
                "\n",
                "Strong Female Lead 28834"
            ],
            "metadata": {
                "azdata_cell_guid": "e9acd8b5-a62b-4ac0-bd07-19915b379ba6"
            },
            "attachments": {}
        },
        {
            "cell_type": "markdown",
            "source": [
                "### **Write a query to return authors, titles, ratings and** **selected tag(s)\\_id.**"
            ],
            "metadata": {
                "azdata_cell_guid": "59b84464-c0bc-4dac-9e02-0c803765b063"
            },
            "attachments": {}
        },
        {
            "cell_type": "code",
            "source": [
                "-- Solution\r\n",
                "SELECT TOP 30 tr.authors,tr.title, tr.ratings_count, b.tag_id\r\n",
                "FROM BooksDB.dbo.book_tags AS b\r\n",
                "INNER JOIN BooksDB.dbo.books AS tr\r\n",
                "ON tr.book_id = tr.book_id \r\n",
                "where tag_id = 28834\r\n",
                ""
            ],
            "metadata": {
                "azdata_cell_guid": "51ffeaaf-6dde-4906-95f3-eb8757babf27",
                "tags": [],
                "language": "sql"
            },
            "outputs": [
                {
                    "output_type": "display_data",
                    "data": {
                        "text/html": "(30 rows affected)"
                    },
                    "metadata": {}
                },
                {
                    "output_type": "display_data",
                    "data": {
                        "text/html": "Total execution time: 00:00:00.055"
                    },
                    "metadata": {}
                },
                {
                    "output_type": "execute_result",
                    "metadata": {},
                    "execution_count": 66,
                    "data": {
                        "application/vnd.dataresource+json": {
                            "schema": {
                                "fields": [
                                    {
                                        "name": "authors"
                                    },
                                    {
                                        "name": "title"
                                    },
                                    {
                                        "name": "ratings_count"
                                    },
                                    {
                                        "name": "tag_id"
                                    }
                                ]
                            },
                            "data": [
                                {
                                    "authors": "Suzanne Collins",
                                    "title": "The Hunger Games (The Hunger Games, #1)",
                                    "ratings_count": "4780653",
                                    "tag_id": "28834"
                                },
                                {
                                    "authors": "J.K. Rowling, Mary GrandPré",
                                    "title": "Harry Potter and the Sorcerer's Stone (Harry Potter, #1)",
                                    "ratings_count": "4602479",
                                    "tag_id": "28834"
                                },
                                {
                                    "authors": "Stephenie Meyer",
                                    "title": "Twilight (Twilight, #1)",
                                    "ratings_count": "3866839",
                                    "tag_id": "28834"
                                },
                                {
                                    "authors": "Harper Lee",
                                    "title": "To Kill a Mockingbird",
                                    "ratings_count": "3198671",
                                    "tag_id": "28834"
                                },
                                {
                                    "authors": "F. Scott Fitzgerald",
                                    "title": "The Great Gatsby",
                                    "ratings_count": "2683664",
                                    "tag_id": "28834"
                                },
                                {
                                    "authors": "John Green",
                                    "title": "The Fault in Our Stars",
                                    "ratings_count": "2346404",
                                    "tag_id": "28834"
                                },
                                {
                                    "authors": "J.R.R. Tolkien",
                                    "title": "The Hobbit",
                                    "ratings_count": "2071616",
                                    "tag_id": "28834"
                                },
                                {
                                    "authors": "J.D. Salinger",
                                    "title": "The Catcher in the Rye",
                                    "ratings_count": "2044241",
                                    "tag_id": "28834"
                                },
                                {
                                    "authors": "Dan Brown",
                                    "title": "Angels & Demons  (Robert Langdon, #1)",
                                    "ratings_count": "2001311",
                                    "tag_id": "28834"
                                },
                                {
                                    "authors": "Jane Austen",
                                    "title": "Pride and Prejudice",
                                    "ratings_count": "2035490",
                                    "tag_id": "28834"
                                },
                                {
                                    "authors": "Khaled Hosseini",
                                    "title": "The Kite Runner",
                                    "ratings_count": "1813044",
                                    "tag_id": "28834"
                                },
                                {
                                    "authors": "Veronica Roth",
                                    "title": "Divergent (Divergent, #1)",
                                    "ratings_count": "1903563",
                                    "tag_id": "28834"
                                },
                                {
                                    "authors": "George Orwell, Erich Fromm, Celâl Üster",
                                    "title": "1984",
                                    "ratings_count": "1956832",
                                    "tag_id": "28834"
                                },
                                {
                                    "authors": "George Orwell",
                                    "title": "Animal Farm",
                                    "ratings_count": "1881700",
                                    "tag_id": "28834"
                                },
                                {
                                    "authors": "Anne Frank, Eleanor Roosevelt, B.M. Mooyaart-Doubleday",
                                    "title": "The Diary of a Young Girl",
                                    "ratings_count": "1972666",
                                    "tag_id": "28834"
                                },
                                {
                                    "authors": "Stieg Larsson, Reg Keeland",
                                    "title": "The Girl with the Dragon Tattoo (Millennium, #1)",
                                    "ratings_count": "1808403",
                                    "tag_id": "28834"
                                },
                                {
                                    "authors": "Suzanne Collins",
                                    "title": "Catching Fire (The Hunger Games, #2)",
                                    "ratings_count": "1831039",
                                    "tag_id": "28834"
                                },
                                {
                                    "authors": "J.K. Rowling, Mary GrandPré, Rufus Beck",
                                    "title": "Harry Potter and the Prisoner of Azkaban (Harry Potter, #3)",
                                    "ratings_count": "1832823",
                                    "tag_id": "28834"
                                },
                                {
                                    "authors": "J.R.R. Tolkien",
                                    "title": "The Fellowship of the Ring (The Lord of the Rings, #1)",
                                    "ratings_count": "1766803",
                                    "tag_id": "28834"
                                },
                                {
                                    "authors": "Suzanne Collins",
                                    "title": "Mockingjay (The Hunger Games, #3)",
                                    "ratings_count": "1719760",
                                    "tag_id": "28834"
                                },
                                {
                                    "authors": "J.K. Rowling, Mary GrandPré",
                                    "title": "Harry Potter and the Order of the Phoenix (Harry Potter, #5)",
                                    "ratings_count": "1735368",
                                    "tag_id": "28834"
                                },
                                {
                                    "authors": "Alice Sebold",
                                    "title": "The Lovely Bones",
                                    "ratings_count": "1605173",
                                    "tag_id": "28834"
                                },
                                {
                                    "authors": "J.K. Rowling, Mary GrandPré",
                                    "title": "Harry Potter and the Chamber of Secrets (Harry Potter, #2)",
                                    "ratings_count": "1779331",
                                    "tag_id": "28834"
                                },
                                {
                                    "authors": "J.K. Rowling, Mary GrandPré",
                                    "title": "Harry Potter and the Goblet of Fire (Harry Potter, #4)",
                                    "ratings_count": "1753043",
                                    "tag_id": "28834"
                                },
                                {
                                    "authors": "J.K. Rowling, Mary GrandPré",
                                    "title": "Harry Potter and the Deathly Hallows (Harry Potter, #7)",
                                    "ratings_count": "1746574",
                                    "tag_id": "28834"
                                },
                                {
                                    "authors": "Dan Brown",
                                    "title": "The Da Vinci Code (Robert Langdon, #2)",
                                    "ratings_count": "1447148",
                                    "tag_id": "28834"
                                },
                                {
                                    "authors": "J.K. Rowling, Mary GrandPré",
                                    "title": "Harry Potter and the Half-Blood Prince (Harry Potter, #6)",
                                    "ratings_count": "1678823",
                                    "tag_id": "28834"
                                },
                                {
                                    "authors": "William Golding",
                                    "title": "Lord of the Flies",
                                    "ratings_count": "1605019",
                                    "tag_id": "28834"
                                },
                                {
                                    "authors": "William Shakespeare, Robert           Jackson",
                                    "title": "Romeo and Juliet",
                                    "ratings_count": "1628519",
                                    "tag_id": "28834"
                                },
                                {
                                    "authors": "Gillian Flynn",
                                    "title": "Gone Girl",
                                    "ratings_count": "512475",
                                    "tag_id": "28834"
                                }
                            ]
                        },
                        "text/html": [
                            "<table>",
                            "<tr><th>authors</th><th>title</th><th>ratings_count</th><th>tag_id</th></tr>",
                            "<tr><td>Suzanne Collins</td><td>The Hunger Games (The Hunger Games, #1)</td><td>4780653</td><td>28834</td></tr>",
                            "<tr><td>J.K. Rowling, Mary GrandPré</td><td>Harry Potter and the Sorcerer's Stone (Harry Potter, #1)</td><td>4602479</td><td>28834</td></tr>",
                            "<tr><td>Stephenie Meyer</td><td>Twilight (Twilight, #1)</td><td>3866839</td><td>28834</td></tr>",
                            "<tr><td>Harper Lee</td><td>To Kill a Mockingbird</td><td>3198671</td><td>28834</td></tr>",
                            "<tr><td>F. Scott Fitzgerald</td><td>The Great Gatsby</td><td>2683664</td><td>28834</td></tr>",
                            "<tr><td>John Green</td><td>The Fault in Our Stars</td><td>2346404</td><td>28834</td></tr>",
                            "<tr><td>J.R.R. Tolkien</td><td>The Hobbit</td><td>2071616</td><td>28834</td></tr>",
                            "<tr><td>J.D. Salinger</td><td>The Catcher in the Rye</td><td>2044241</td><td>28834</td></tr>",
                            "<tr><td>Dan Brown</td><td>Angels &amp; Demons  (Robert Langdon, #1)</td><td>2001311</td><td>28834</td></tr>",
                            "<tr><td>Jane Austen</td><td>Pride and Prejudice</td><td>2035490</td><td>28834</td></tr>",
                            "<tr><td>Khaled Hosseini</td><td>The Kite Runner</td><td>1813044</td><td>28834</td></tr>",
                            "<tr><td>Veronica Roth</td><td>Divergent (Divergent, #1)</td><td>1903563</td><td>28834</td></tr>",
                            "<tr><td>George Orwell, Erich Fromm, Celâl Üster</td><td>1984</td><td>1956832</td><td>28834</td></tr>",
                            "<tr><td>George Orwell</td><td>Animal Farm</td><td>1881700</td><td>28834</td></tr>",
                            "<tr><td>Anne Frank, Eleanor Roosevelt, B.M. Mooyaart-Doubleday</td><td>The Diary of a Young Girl</td><td>1972666</td><td>28834</td></tr>",
                            "<tr><td>Stieg Larsson, Reg Keeland</td><td>The Girl with the Dragon Tattoo (Millennium, #1)</td><td>1808403</td><td>28834</td></tr>",
                            "<tr><td>Suzanne Collins</td><td>Catching Fire (The Hunger Games, #2)</td><td>1831039</td><td>28834</td></tr>",
                            "<tr><td>J.K. Rowling, Mary GrandPré, Rufus Beck</td><td>Harry Potter and the Prisoner of Azkaban (Harry Potter, #3)</td><td>1832823</td><td>28834</td></tr>",
                            "<tr><td>J.R.R. Tolkien</td><td>The Fellowship of the Ring (The Lord of the Rings, #1)</td><td>1766803</td><td>28834</td></tr>",
                            "<tr><td>Suzanne Collins</td><td>Mockingjay (The Hunger Games, #3)</td><td>1719760</td><td>28834</td></tr>",
                            "<tr><td>J.K. Rowling, Mary GrandPré</td><td>Harry Potter and the Order of the Phoenix (Harry Potter, #5)</td><td>1735368</td><td>28834</td></tr>",
                            "<tr><td>Alice Sebold</td><td>The Lovely Bones</td><td>1605173</td><td>28834</td></tr>",
                            "<tr><td>J.K. Rowling, Mary GrandPré</td><td>Harry Potter and the Chamber of Secrets (Harry Potter, #2)</td><td>1779331</td><td>28834</td></tr>",
                            "<tr><td>J.K. Rowling, Mary GrandPré</td><td>Harry Potter and the Goblet of Fire (Harry Potter, #4)</td><td>1753043</td><td>28834</td></tr>",
                            "<tr><td>J.K. Rowling, Mary GrandPré</td><td>Harry Potter and the Deathly Hallows (Harry Potter, #7)</td><td>1746574</td><td>28834</td></tr>",
                            "<tr><td>Dan Brown</td><td>The Da Vinci Code (Robert Langdon, #2)</td><td>1447148</td><td>28834</td></tr>",
                            "<tr><td>J.K. Rowling, Mary GrandPré</td><td>Harry Potter and the Half-Blood Prince (Harry Potter, #6)</td><td>1678823</td><td>28834</td></tr>",
                            "<tr><td>William Golding</td><td>Lord of the Flies</td><td>1605019</td><td>28834</td></tr>",
                            "<tr><td>William Shakespeare, Robert           Jackson</td><td>Romeo and Juliet</td><td>1628519</td><td>28834</td></tr>",
                            "<tr><td>Gillian Flynn</td><td>Gone Girl</td><td>512475</td><td>28834</td></tr>",
                            "</table>"
                        ]
                    }
                }
            ],
            "execution_count": 66
        },
        {
            "cell_type": "markdown",
            "source": [
                "### **Record your thoughts about why you wrote the query the way you did.**"
            ],
            "metadata": {
                "azdata_cell_guid": "1e19a72c-1bca-446b-a0c7-a8efbc35dcf1"
            },
            "attachments": {}
        },
        {
            "cell_type": "markdown",
            "source": [
                "# Part 2: Choose Another Month\n",
                "\n",
                "Choose another month and plan at least 2 events / promotions and answer the following questions.\n",
                "\n",
                "Which month did you choose?  \n",
                "\n",
                "What 2 events / promotions are you highlighting?\n",
                "\n",
                "> 1.\n",
                "\n",
                "> 2."
            ],
            "metadata": {
                "azdata_cell_guid": "3eaf376d-9de3-4553-a9d0-9caf74ee3d6a"
            },
            "attachments": {}
        },
        {
            "cell_type": "markdown",
            "source": [
                "# Part 3: Summarize your Work\n",
                "\n",
                "For each event write at least one query that joins any two tables in the BooksDB to support your choice and record you thoughts as to why you used the paticlular query. At least one of your queries needs to include a HAVING clause."
            ],
            "metadata": {
                "azdata_cell_guid": "1ba1363a-4f02-4962-a95a-93b80c5926b1"
            },
            "attachments": {}
        },
        {
            "cell_type": "code",
            "source": [
                "-- Event 1 Query"
            ],
            "metadata": {
                "azdata_cell_guid": "f50d32ce-4cb2-4af2-acb1-607777a76cf8",
                "language": "sql"
            },
            "outputs": [],
            "execution_count": null
        },
        {
            "cell_type": "code",
            "source": [
                ""
            ],
            "metadata": {
                "azdata_cell_guid": "5606f7f2-c46b-42d3-ac64-7ae21c3394f8",
                "language": "sql"
            },
            "outputs": [],
            "execution_count": null
        },
        {
            "cell_type": "markdown",
            "source": [
                "### **Summary of event 1:**\n",
                "\n",
                "Double Click to edit."
            ],
            "metadata": {
                "azdata_cell_guid": "3bc72d4c-077b-42d3-9528-9aff8e7b6cf3"
            },
            "attachments": {}
        },
        {
            "cell_type": "code",
            "source": [
                "-- Event 2 Query"
            ],
            "metadata": {
                "azdata_cell_guid": "dca0a98f-065f-4b0e-9d93-fcb01cad668c",
                "language": "sql"
            },
            "outputs": [],
            "execution_count": null
        },
        {
            "cell_type": "code",
            "source": [
                ""
            ],
            "metadata": {
                "azdata_cell_guid": "3aaae3a8-eff7-4b37-8970-2d913a67239b",
                "language": "sql"
            },
            "outputs": [],
            "execution_count": null
        },
        {
            "cell_type": "markdown",
            "source": [
                "### **Summary of event 2:**\n",
                "\n",
                "Double Click to edit."
            ],
            "metadata": {
                "azdata_cell_guid": "99d518dc-cd8b-42d6-9a9d-708771c9aa99"
            },
            "attachments": {}
        }
    ]
}